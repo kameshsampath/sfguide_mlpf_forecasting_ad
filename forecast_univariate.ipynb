{
 "cells": [
  {
   "cell_type": "code",
   "execution_count": null,
   "id": "217a21f3-1073-4ccd-accf-8d73f9cf9212",
   "metadata": {
    "collapsed": false,
    "language": "python",
    "name": "cell13"
   },
   "outputs": [],
   "source": [
    "from datetime import timedelta\n",
    "import streamlit as st\n",
    "import snowflake.snowpark.functions as F\n",
    "import altair as alt\n",
    "\n",
    "import modin.pandas as pd\n",
    "\n",
    "# Import the Snowpark pandas plugin for modin.\n",
    "import snowflake.snowpark.modin.plugin"
   ]
  },
  {
   "cell_type": "code",
   "execution_count": null,
   "id": "15b20cd2-c5fa-4e2c-b453-e2c5d93b3014",
   "metadata": {
    "collapsed": false,
    "language": "python",
    "name": "cell4"
   },
   "outputs": [],
   "source": [
    "session = get_active_session()\n",
    "stage_name = 's3load'\n",
    "table_name = \"tasty_byte_sales\""
   ]
  },
  {
   "cell_type": "markdown",
   "id": "3e60615d-d89b-4c91-bee5-5ce96954b8e0",
   "metadata": {
    "collapsed": false,
    "name": "cell14"
   },
   "source": [
    "## Load Data"
   ]
  },
  {
   "cell_type": "markdown",
   "id": "f7e552c0-ef5e-4cbe-908b-4b3b2db985fb",
   "metadata": {
    "collapsed": false,
    "name": "cell21"
   },
   "source": [
    "### Create stage"
   ]
  },
  {
   "cell_type": "code",
   "execution_count": null,
   "id": "ec018a13-0495-4bf4-8639-ecb8b1169ea1",
   "metadata": {
    "collapsed": false,
    "language": "sql",
    "name": "cell11"
   },
   "outputs": [],
   "source": [
    "\n",
    "CREATE OR REPLACE STAGE {{ stage_name }} \n",
    "    COMMENT = 'Quickstart S3 Stage Connection'\n",
    "    url = 's3://sfquickstarts/frostbyte_tastybytes/mlpf_quickstart/'"
   ]
  },
  {
   "cell_type": "code",
   "execution_count": null,
   "id": "c5882f32-243b-4a0a-b8f6-a7d4b10690b7",
   "metadata": {
    "collapsed": false,
    "language": "python",
    "name": "cell7"
   },
   "outputs": [],
   "source": [
    "\n",
    "tbs_data = pd.read_csv(f\"@{stage_name}/ml_functions_quickstart.csv\")\n",
    "#tbs_data\n",
    "tbs_df = session.write_pandas(tbs_data,table_name,auto_create_table=True,overwrite=True)"
   ]
  },
  {
   "cell_type": "markdown",
   "id": "e04807c7-239e-42e2-b439-6d689d3b20ba",
   "metadata": {
    "collapsed": false,
    "name": "cell15"
   },
   "source": [
    "## Visualize Daily Sales on Snowsight\n",
    "\n",
    "Before building our model, let's first visualize our data to get a feel for what our sales data looks like."
   ]
  },
  {
   "cell_type": "markdown",
   "id": "82b20581-1f6b-428e-891e-14d479d72d63",
   "metadata": {
    "collapsed": false,
    "name": "cell12"
   },
   "source": [
    "View the existing sales data"
   ]
  },
  {
   "cell_type": "code",
   "execution_count": null,
   "id": "ce110000-1111-2222-3333-ffffff000000",
   "metadata": {
    "collapsed": false,
    "language": "python",
    "name": "tasty_byte_sales"
   },
   "outputs": [],
   "source": [
    "tb_sales_df  = session.table(table_name)\n",
    "tb_sales_df.show()"
   ]
  },
  {
   "cell_type": "markdown",
   "id": "c208d184-39a9-4ce2-837c-3db60f021d9a",
   "metadata": {
    "collapsed": false,
    "name": "cell6"
   },
   "source": [
    "Find sales data specific to menu item `Lobster Mac & Cheese`"
   ]
  },
  {
   "cell_type": "code",
   "execution_count": null,
   "id": "6d072cb7-bb3f-4894-a2c6-4c1a5a4ec0b0",
   "metadata": {
    "collapsed": false,
    "language": "python",
    "name": "lobster_sales"
   },
   "outputs": [],
   "source": [
    "tb_sales_df.where(F.col('menu_item_name').like('Lobster Mac & Cheese'))"
   ]
  },
  {
   "cell_type": "markdown",
   "id": "44cab750-28ee-4407-b982-06b4295a3316",
   "metadata": {
    "collapsed": false,
    "name": "cell16"
   },
   "source": [
    "### Plot the data\n",
    "Let us visuualize the lobster sales data. We will use [Altair Charts](https://altair-viz.github.io/) with [Streamlit](https://streamlit.io)."
   ]
  },
  {
   "cell_type": "code",
   "execution_count": null,
   "id": "a3079c32-35f4-4359-bdaf-078a4c039f01",
   "metadata": {
    "collapsed": false,
    "language": "python",
    "name": "visualize_sales"
   },
   "outputs": [],
   "source": [
    "base = alt.Chart(lobster_sales.to_pandas())\n",
    "\n",
    "total_sold = base.mark_line(point=True).encode(\n",
    "    x=alt.X(\"DATE:O\", timeUnit=\"monthdate\", title=\"Date\").scale(zero=False),\n",
    "    y=alt.Y(\"TOTAL_SOLD\", title=\"Total Sold\").scale(zero=False),\n",
    ")\n",
    "st.altair_chart(total_sold,use_container_width=True)\n"
   ]
  },
  {
   "cell_type": "markdown",
   "id": "3a68046e-df76-46eb-956e-34b1620ad5e9",
   "metadata": {
    "collapsed": false,
    "name": "cell17"
   },
   "source": [
    "## Build Forecast Model\n",
    "\n",
    "### Dataset\n",
    "\n",
    "Let us build the sales dataset for the city of `vancouver` with past **one** year's data. To able to refer to this data when building forecast model, we will persist the same in a table `vancouver_sales`."
   ]
  },
  {
   "cell_type": "code",
   "execution_count": null,
   "id": "7d024a17-3c5a-4057-8865-0c58fc1d4450",
   "metadata": {
    "collapsed": false,
    "language": "python",
    "name": "vancouver_sales"
   },
   "outputs": [],
   "source": [
    "# Calculate 1 year interval since last sale date\n",
    "date_range = tb_sales_df.select(F.max(F.col(\"date\")).alias(\"max_date\"))\n",
    "max_d = date_range.first()[0]\n",
    "# print(f\"Current Date:{max_d} and its type {type(max_d)}\")\n",
    "interval = max_d - timedelta(365)\n",
    "# print(f\"Interval: {interval}\")\n",
    "\n",
    "van_sales = tb_sales_df.select(F.to_timestamp_ntz(\"date\").alias(\"timestamp\"),F.col(\"primary_city\"),F.col(\"menu_item_name\"),F.col(\"total_sold\")).where(F.col(\"date\") > interval)\n",
    "# print(van_sales.queries)\n",
    "van_sales.write.mode(\"overwrite\").save_as_table(\"vancouver_sales\")\n",
    "van_sales"
   ]
  },
  {
   "cell_type": "markdown",
   "id": "87bbce66-f290-447b-98ca-d3479c587e4b",
   "metadata": {
    "collapsed": false,
    "name": "cell18"
   },
   "source": [
    "### Create Timeseries Data\n",
    "\n",
    "The forecasting model relies on timeseries data. Let us create a view to build a timesries data from sales data `vancouver_sales` and filter it for `Lobster Mac & Cheese`."
   ]
  },
  {
   "cell_type": "code",
   "execution_count": null,
   "id": "5c8ff86b-4797-4b26-a912-f7c0350c27a7",
   "metadata": {
    "collapsed": false,
    "language": "python",
    "name": "cell3"
   },
   "outputs": [],
   "source": [
    "lobster_sales_view = \"LOBSTER_SALES\"\n",
    "lobster_sales_view_df = van_sales.select(F.col(\"timestamp\"),F.col(\"total_sold\")).where(F.col(\"menu_item_name\").like('Lobster Mac & Cheese'))\n",
    "lobster_sales_view_df.createOrReplaceView(f\"{lobster_sales_view}\")"
   ]
  },
  {
   "cell_type": "markdown",
   "id": "ad6032fe-536e-4a6e-a880-2d4048bb324a",
   "metadata": {
    "collapsed": false,
    "name": "cell19"
   },
   "source": [
    "### Build a Forecast Model"
   ]
  },
  {
   "cell_type": "code",
   "execution_count": null,
   "id": "11098449-9c8d-4dc4-9d47-ef5e46a1826b",
   "metadata": {
    "collapsed": false,
    "language": "sql",
    "name": "create_forecast_model"
   },
   "outputs": [],
   "source": [
    "CREATE OR REPLACE forecast lobstermac_forecast (\n",
    "    INPUT_DATA => TABLE({{ lobster_sales_view }}),\n",
    "    TIMESTAMP_COLNAME => 'TIMESTAMP',\n",
    "    TARGET_COLNAME => 'TOTAL_SOLD'\n",
    ");"
   ]
  },
  {
   "cell_type": "markdown",
   "id": "dcae606c-c311-4765-a488-f1dfa43d2e08",
   "metadata": {
    "collapsed": false,
    "name": "cell22"
   },
   "source": [
    "List all available forecast models."
   ]
  },
  {
   "cell_type": "code",
   "execution_count": null,
   "id": "a3db243d-21d6-4a78-a057-3f98b9d7bc47",
   "metadata": {
    "collapsed": false,
    "language": "sql",
    "name": "cell5"
   },
   "outputs": [],
   "source": [
    "SHOW forecast;"
   ]
  },
  {
   "cell_type": "markdown",
   "id": "511b1cc7-f67d-478a-b4fa-8e53c7cda8c1",
   "metadata": {
    "collapsed": false,
    "name": "cell20"
   },
   "source": [
    "### Forecast\n",
    "\n",
    "Let us use the model to build a sales forecast for next 10 days. And persist the predictiosn on to a table named `macncheese_predictions`."
   ]
  },
  {
   "cell_type": "code",
   "execution_count": null,
   "id": "00b53993-015f-42b2-8878-a6a31d7b9803",
   "metadata": {
    "collapsed": false,
    "language": "sql",
    "name": "macncheese_predictions"
   },
   "outputs": [],
   "source": [
    "CALL lobstermac_forecast!FORECAST(FORECASTING_PERIODS => 10)"
   ]
  },
  {
   "cell_type": "code",
   "execution_count": null,
   "id": "82260af3-51ce-4cd4-9201-f7c058a91c57",
   "metadata": {
    "collapsed": false,
    "language": "python",
    "name": "cell2"
   },
   "outputs": [],
   "source": [
    "macncheese_predictions.to_df().write.mode(\"overwrite\").save_as_table(\"macncheese_predictions\")"
   ]
  },
  {
   "cell_type": "markdown",
   "id": "554f1fb4-2fac-42b4-8ee5-d524048e7f43",
   "metadata": {
    "collapsed": false,
    "name": "cell8"
   },
   "source": [
    "### Visualize the Forecast\n",
    "\n",
    "To visualize the Forecast i.e. plotting it as graph, we will beb building a multline chart. Let us `UNION` our actual sales data with the forecast(predictions) data.\n"
   ]
  },
  {
   "cell_type": "code",
   "execution_count": null,
   "id": "20b5ce71-a592-4cf0-925c-d3a5d504804d",
   "metadata": {
    "collapsed": false,
    "language": "python",
    "name": "cell9"
   },
   "outputs": [],
   "source": [
    "sales_df = lobster_sales_view_df.with_column(\"forecast\",F.lit(None)).where(F.col('timestamp') > '2023-03-01')\n",
    "forecast_df = macncheese_predictions.to_df().select(F.col(\"TS\").alias(\"timestamp\"),F.col(\"forecast\")).with_column(\"total_sold\",F.lit(None))\n",
    "sales_forecast_df = sales_df.union_all_by_name(forecast_df)\n",
    "sales_forecast_df"
   ]
  },
  {
   "cell_type": "code",
   "execution_count": null,
   "id": "52eb68c4-3a3c-4db7-996f-d8e56d6657d0",
   "metadata": {
    "collapsed": false,
    "language": "python",
    "name": "visualize_forecast"
   },
   "outputs": [],
   "source": [
    "base = alt.Chart(sales_forecast_df.to_pandas())\n",
    "\n",
    "# plot the actual sales\n",
    "total_sold = base.mark_line(point=True, color=\"blue\").encode(\n",
    "    x=alt.X(\"TIMESTAMP:O\",timeUnit=\"monthdate\",title=\"Date\").scale(zero=False),\n",
    "    y=alt.Y(\"TOTAL_SOLD\", title=\"Total Sold\").scale(zero=False),\n",
    ")\n",
    "\n",
    "# plot the forecast\n",
    "forecast = base.mark_line(point=True, color=\"orange\").encode(\n",
    "    x=alt.X(\"TIMESTAMP:O\",timeUnit=\"monthdate\",title=\"Date\"),\n",
    "    y=alt.Y(shorthand=\"FORECAST\", title=\"Total Sold\").scale(zero=False),\n",
    ")\n",
    "st.altair_chart(total_sold + forecast, use_container_width=True)"
   ]
  },
  {
   "cell_type": "markdown",
   "id": "47947cd1-b33b-4bc5-993f-18300a7e37e6",
   "metadata": {
    "collapsed": false,
    "name": "cell1"
   },
   "source": [
    "## Forecast Configuration\n",
    "\n",
    "The `FORECAST` SQL funciton takes a `CONFIG_OBJECT` which we can use to tune various parameters. In the following example let us tune the `predection_interval`. Refer to [docs](https://docs.snowflake.com/sql-reference/classes/forecast/commands/create-forecast) for other configuration options."
   ]
  },
  {
   "cell_type": "code",
   "execution_count": null,
   "id": "f23fced4-f71e-42f5-921d-77f54976ec76",
   "metadata": {
    "collapsed": false,
    "language": "sql",
    "name": "cell10"
   },
   "outputs": [],
   "source": [
    "CALL lobstermac_forecast!FORECAST(FORECASTING_PERIODS => 10, CONFIG_OBJECT => {'prediction_interval': .5});"
   ]
  }
 ],
 "metadata": {
  "language_info": {
   "name": "python"
  }
 },
 "nbformat": 4,
 "nbformat_minor": 2
}
