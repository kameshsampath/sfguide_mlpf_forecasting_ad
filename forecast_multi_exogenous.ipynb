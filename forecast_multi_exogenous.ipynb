{
 "metadata": {
  "language_info": {
   "name": "python"
  }
 },
 "nbformat_minor": 2,
 "nbformat": 4,
 "cells": [
  {
   "cell_type": "code",
   "execution_count": null,
   "metadata": {
    "name": "cell1",
    "language": "python",
    "collapsed": false
   },
   "outputs": [],
   "source": "import streamlit as st\nimport snowflake.snowpark.functions as F\n\nsession = get_active_session()",
   "id": "ce110000-1111-2222-3333-ffffff000000"
  },
  {
   "cell_type": "markdown",
   "id": "ea3b7a61-b89e-4fd2-b754-93cfb7c07ef5",
   "metadata": {
    "name": "cell9",
    "collapsed": false
   },
   "source": "Let us have the Vancover sales data handy for reference."
  },
  {
   "cell_type": "code",
   "id": "5a02a36b-d757-4234-a803-39038ecad69b",
   "metadata": {
    "language": "sql",
    "name": "vancouver_sales",
    "collapsed": false
   },
   "outputs": [],
   "source": "SELECT * FROM vancouver_sales;",
   "execution_count": null
  },
  {
   "cell_type": "markdown",
   "id": "d5ec836e-b7ef-4c53-8206-d5d28a2a1a55",
   "metadata": {
    "name": "cell10",
    "collapsed": false
   },
   "source": "Create a view to fetch all the Canadian Holidays within our sales forecast data range i.e. after `2022-01-01`"
  },
  {
   "cell_type": "code",
   "execution_count": null,
   "metadata": {
    "name": "canadian_holidays",
    "language": "sql",
    "collapsed": false,
    "codeCollapsed": false
   },
   "outputs": [],
   "source": "CREATE OR REPLACE VIEW canadian_holidays AS (\n    SELECT\n        date,\n        holiday_name,\n        is_financial\n    FROM\n        frostbyte_cs_public.cybersyn.public_holiday_calendar\n    WHERE\n        ISO_ALPHA2 LIKE 'CA'\n        AND date > '2022-01-01'\n        AND (\n            subdivision IS null\n            OR subdivision LIKE 'BC'\n        )\n    ORDER BY\n        date ASC\n);",
   "id": "ce110000-1111-2222-3333-ffffff000001"
  },
  {
   "cell_type": "markdown",
   "id": "2cb472d6-3f8a-47e8-b28b-875214bcfc85",
   "metadata": {
    "name": "cell11",
    "collapsed": false
   },
   "source": "Create a dataset for multiple items namely `Mothers Favorite`, `Bottled Soda`, `Ice Tea` along with the Canadian holidays. The holidays inthe dataset helps us to check if the holidays is having an impact on the sales and the subsequent forecast."
  },
  {
   "cell_type": "code",
   "id": "c7de45a4-bc24-423e-b018-84763f5e5a04",
   "metadata": {
    "language": "sql",
    "name": "all_items_vancouver",
    "collapsed": false
   },
   "outputs": [],
   "source": "CREATE OR REPLACE VIEW allitems_vancouver AS (\n    SELECT\n        vs.timestamp,\n        vs.menu_item_name,\n        vs.total_sold,\n        ch.holiday_name\n    FROM \n        vancouver_sales vs\n        LEFT JOIN canadian_holidays ch ON vs.timestamp = ch.date\n    WHERE MENU_ITEM_NAME IN ('Mothers Favorite', 'Bottled Soda', 'Ice Tea')\n);",
   "execution_count": null
  },
  {
   "cell_type": "markdown",
   "id": "76bf7e31-02f4-494e-83fc-7b0b0f4c7abb",
   "metadata": {
    "name": "cell12",
    "collapsed": false
   },
   "source": "Build the mutli-series forecast model. "
  },
  {
   "cell_type": "code",
   "id": "2efa4d2e-0481-4d5d-9d4b-467acd0453d3",
   "metadata": {
    "language": "sql",
    "name": "vancouver_forecast",
    "collapsed": false
   },
   "outputs": [],
   "source": "CREATE OR REPLACE forecast vancouver_forecast (\n    INPUT_DATA => TABLE(allitems_vancouver),\n    SERIES_COLNAME => 'MENU_ITEM_NAME',\n    TIMESTAMP_COLNAME => 'TIMESTAMP',\n    TARGET_COLNAME => 'TOTAL_SOLD'\n);",
   "execution_count": null
  },
  {
   "cell_type": "code",
   "id": "ee12bf19-efa4-4405-99b6-0b6a9c3474f4",
   "metadata": {
    "language": "sql",
    "name": "cell4",
    "collapsed": false
   },
   "outputs": [],
   "source": "SHOW forecast;",
   "execution_count": null
  },
  {
   "cell_type": "code",
   "id": "a344c394-27a8-44cb-9ba6-2806891c6aa9",
   "metadata": {
    "language": "python",
    "name": "cell5",
    "collapsed": false
   },
   "outputs": [],
   "source": "vancouver_sales.to_df().select(F.max(\"timestamp\"))",
   "execution_count": null
  },
  {
   "cell_type": "markdown",
   "id": "2f376de1-768c-44f8-8f18-647620dd4801",
   "metadata": {
    "name": "cell13",
    "collapsed": false
   },
   "source": "Build the inference dataset on which we will do the predictions."
  },
  {
   "cell_type": "code",
   "id": "73150cd5-d41f-4db6-a62e-bc08c9502fb3",
   "metadata": {
    "language": "sql",
    "name": "vancouver_forecast_data",
    "collapsed": false
   },
   "outputs": [],
   "source": "CREATE OR REPLACE VIEW vancouver_forecast_data AS (\n    WITH future_dates AS (\n        SELECT\n            '2023-05-28' ::DATE + row_number() OVER (\n                ORDER BY\n                    0\n            ) AS timestamp\n        FROM\n            TABLE(generator(rowcount => 10))\n    ),\n    food_items AS (\n        SELECT\n            DISTINCT menu_item_name\n        FROM\n            allitems_vancouver\n    ),\n    joined_menu_items AS (\n        SELECT\n            *\n        FROM\n            food_items\n            CROSS JOIN future_dates\n        ORDER BY\n            menu_item_name ASC,\n            timestamp ASC\n    )\n    SELECT\n        jmi.menu_item_name,\n        to_timestamp_ntz(jmi.timestamp) AS timestamp,\n        ch.holiday_name\n    FROM\n        joined_menu_items AS jmi\n        LEFT JOIN canadian_holidays ch ON jmi.timestamp = ch.date\n    ORDER BY\n        jmi.menu_item_name ASC,\n        jmi.timestamp ASC\n);",
   "execution_count": null
  },
  {
   "cell_type": "markdown",
   "id": "cec8febb-cdc8-41f7-9264-550467a5b432",
   "metadata": {
    "name": "cell8",
    "collapsed": false
   },
   "source": "Run the predictions i.e. do the multi-series forecasting."
  },
  {
   "cell_type": "code",
   "id": "d0b4f410-2305-42bf-80fd-714e6075d34f",
   "metadata": {
    "language": "sql",
    "name": "vancouver_predictions",
    "collapsed": false
   },
   "outputs": [],
   "source": "CALL vancouver_forecast!forecast(\n        INPUT_DATA => TABLE(vancouver_forecast_data),\n        SERIES_COLNAME => 'menu_item_name',\n        TIMESTAMP_COLNAME => 'timestamp'\n);",
   "execution_count": null
  },
  {
   "cell_type": "markdown",
   "id": "78d95f8c-7c67-4c62-8376-9c3e7b7d7f1e",
   "metadata": {
    "name": "cell14",
    "collapsed": false
   },
   "source": "Save the predections to the table `vancouver_predictions`"
  },
  {
   "cell_type": "code",
   "id": "ac0d3ebc-2486-41f0-9e0a-7d20714549a6",
   "metadata": {
    "language": "python",
    "name": "cell7",
    "collapsed": false
   },
   "outputs": [],
   "source": "vancouver_predictions.to_df().write.mode(\"overwrite\").save_as_table(\"vancouver_predictions\")",
   "execution_count": null
  },
  {
   "cell_type": "markdown",
   "id": "934be336-fc01-43ff-b22b-161aa138f85d",
   "metadata": {
    "name": "cell15",
    "collapsed": false
   },
   "source": "Analyse the importance of features."
  },
  {
   "cell_type": "code",
   "id": "58146231-d310-424a-801b-33c1061d2009",
   "metadata": {
    "language": "sql",
    "name": "feature_importance",
    "collapsed": false
   },
   "outputs": [],
   "source": "\nCALL VANCOUVER_FORECAST!explain_feature_importance();",
   "execution_count": null
  },
  {
   "cell_type": "markdown",
   "id": "8b73d66f-e046-47fb-ac11-118cafa1cc9e",
   "metadata": {
    "name": "cell16",
    "collapsed": false
   },
   "source": "Explore vital metrics from the model."
  },
  {
   "cell_type": "code",
   "id": "93a8fe4b-6483-41ab-9d7c-8406666066b6",
   "metadata": {
    "language": "sql",
    "name": "evaluation_metrics",
    "collapsed": false
   },
   "outputs": [],
   "source": "CALL VANCOUVER_FORECAST!show_evaluation_metrics();",
   "execution_count": null
  },
  {
   "cell_type": "markdown",
   "id": "dd5283d9-4d8f-4ed7-9e5f-3dc452ece53e",
   "metadata": {
    "name": "cell17",
    "collapsed": false
   },
   "source": "Pull out all features(variables) that did not have any impact in the prediction, the ones with `SCORE == 0`"
  },
  {
   "cell_type": "code",
   "id": "e95e54c6-7592-4639-84d0-18dc997f38ea",
   "metadata": {
    "language": "python",
    "name": "cell6",
    "collapsed": false
   },
   "outputs": [],
   "source": "feature_importance.to_df().select(F.col(\"FEATURE_NAME\")).filter(F.col(\"SCORE\") == 0)",
   "execution_count": null
  }
 ]
}