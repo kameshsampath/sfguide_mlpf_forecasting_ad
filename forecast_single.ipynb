{
 "metadata": {
  "language_info": {
   "name": "python"
  }
 },
 "nbformat_minor": 2,
 "nbformat": 4,
 "cells": [
  {
   "cell_type": "code",
   "id": "217a21f3-1073-4ccd-accf-8d73f9cf9212",
   "metadata": {
    "language": "python",
    "name": "cell13",
    "collapsed": false
   },
   "outputs": [],
   "source": "from datetime import timedelta\nimport streamlit as st\nimport snowflake.snowpark.functions as F\nimport altair as alt",
   "execution_count": null
  },
  {
   "cell_type": "markdown",
   "id": "e04807c7-239e-42e2-b439-6d689d3b20ba",
   "metadata": {
    "name": "cell15",
    "collapsed": false
   },
   "source": "## Visualize Daily Sales on Snowsight\n\nBefore building our model, let's first visualize our data to get a feel for what our sales data looks like."
  },
  {
   "cell_type": "markdown",
   "id": "82b20581-1f6b-428e-891e-14d479d72d63",
   "metadata": {
    "name": "cell12",
    "collapsed": false
   },
   "source": "View the existing sales data"
  },
  {
   "cell_type": "code",
   "execution_count": null,
   "metadata": {
    "name": "tasty_byte_sales",
    "language": "sql",
    "collapsed": false
   },
   "outputs": [],
   "source": "SELECT *\n    FROM tasty_byte_sales;",
   "id": "ce110000-1111-2222-3333-ffffff000000"
  },
  {
   "cell_type": "markdown",
   "id": "c208d184-39a9-4ce2-837c-3db60f021d9a",
   "metadata": {
    "name": "cell6",
    "collapsed": false
   },
   "source": "Find sales data specific to menu item `Lobster Mac & Cheese`"
  },
  {
   "cell_type": "code",
   "id": "6d072cb7-bb3f-4894-a2c6-4c1a5a4ec0b0",
   "metadata": {
    "language": "python",
    "name": "lobster_sales",
    "collapsed": false
   },
   "outputs": [],
   "source": "tasty_byte_sales.to_df().where(F.col('menu_item_name').like('Lobster Mac & Cheese'))",
   "execution_count": null
  },
  {
   "cell_type": "markdown",
   "id": "44cab750-28ee-4407-b982-06b4295a3316",
   "metadata": {
    "name": "cell16",
    "collapsed": false
   },
   "source": "### Plot the data\nLet us visuualize the lobster sales data. We will use [Altair Charts](https://altair-viz.github.io/) with [Streamlit](https://streamlit.io)."
  },
  {
   "cell_type": "code",
   "id": "a3079c32-35f4-4359-bdaf-078a4c039f01",
   "metadata": {
    "language": "python",
    "name": "visualize_sales",
    "collapsed": false
   },
   "outputs": [],
   "source": "base = alt.Chart(lobster_sales.to_pandas())\n\ntotal_sold = base.mark_line(point=True).encode(\n    x=alt.X(\"DATE:O\", timeUnit=\"monthdate\", title=\"Date\").scale(zero=False),\n    y=alt.Y(\"TOTAL_SOLD\", title=\"Total Sold\").scale(zero=False),\n)\nst.altair_chart(total_sold,use_container_width=True)\n",
   "execution_count": null
  },
  {
   "cell_type": "markdown",
   "id": "3a68046e-df76-46eb-956e-34b1620ad5e9",
   "metadata": {
    "name": "cell17",
    "collapsed": false
   },
   "source": "## Build Forecast Model\n\n### Dataset\n\nLet us build the sales dataset for the city of `vancouver` with past **one** year's data. To able to refer to this data when building forecast model, we will persist the same in a table `vancouver_sales`."
  },
  {
   "cell_type": "code",
   "id": "7d024a17-3c5a-4057-8865-0c58fc1d4450",
   "metadata": {
    "language": "python",
    "name": "vancouver_sales",
    "collapsed": false
   },
   "outputs": [],
   "source": "session = get_active_session()\ntasty_bytes_df = tasty_byte_sales.to_df()\n\n# Calculate 1 year interval since last sale date\ndate_range = tasty_bytes_df.select(F.max(F.col(\"date\")).alias(\"max_date\"))\nmax_d = date_range.first()[0]\n# print(f\"Current Date:{max_d} and its type {type(max_d)}\")\ninterval = max_d - timedelta(365)\n# print(f\"Interval: {interval}\")\n\nvan_sales = tasty_bytes_df.select(F.to_timestamp_ntz(\"date\").alias(\"timestamp\"),F.col(\"primary_city\"),F.col(\"menu_item_name\"),F.col(\"total_sold\")).where(F.col(\"date\") > interval)\n# print(van_sales.queries)\nvan_sales.write.mode(\"overwrite\").save_as_table(\"vancouver_sales\")\nvan_sales",
   "execution_count": null
  },
  {
   "cell_type": "markdown",
   "id": "87bbce66-f290-447b-98ca-d3479c587e4b",
   "metadata": {
    "name": "cell18",
    "collapsed": false
   },
   "source": "### Create Timeseries Data\n\nThe forecasting model relies on timeseries data. Let us create a view to build a timesries data from sales data `vancouver_sales` and filter it for `Lobster Mac & Cheese`."
  },
  {
   "cell_type": "code",
   "id": "5c8ff86b-4797-4b26-a912-f7c0350c27a7",
   "metadata": {
    "language": "python",
    "name": "cell3",
    "collapsed": false
   },
   "outputs": [],
   "source": "lobster_sales_view = \"LOBSTER_SALES\"\nvancouver_sales_df = session.table(\"vancouver_sales\")\nlobster_sales_view_df = vancouver_sales_df.select(F.col(\"timestamp\"),F.col(\"total_sold\")).where(F.col(\"menu_item_name\").like('Lobster Mac & Cheese'))\nlobster_sales_view_df.createOrReplaceView(f\"{lobster_sales_view}\")",
   "execution_count": null
  },
  {
   "cell_type": "markdown",
   "id": "ad6032fe-536e-4a6e-a880-2d4048bb324a",
   "metadata": {
    "name": "cell19",
    "collapsed": false
   },
   "source": "### Build a Forecast Model"
  },
  {
   "cell_type": "code",
   "id": "11098449-9c8d-4dc4-9d47-ef5e46a1826b",
   "metadata": {
    "language": "sql",
    "name": "create_forecast_model",
    "collapsed": false
   },
   "outputs": [],
   "source": "CREATE OR REPLACE forecast lobstermac_forecast (\n    INPUT_DATA => TABLE({{ lobster_sales_view }}),\n    TIMESTAMP_COLNAME => 'TIMESTAMP',\n    TARGET_COLNAME => 'TOTAL_SOLD'\n);",
   "execution_count": null
  },
  {
   "cell_type": "markdown",
   "id": "dcae606c-c311-4765-a488-f1dfa43d2e08",
   "metadata": {
    "name": "cell22",
    "collapsed": false
   },
   "source": "List all available forecast models."
  },
  {
   "cell_type": "code",
   "id": "a3db243d-21d6-4a78-a057-3f98b9d7bc47",
   "metadata": {
    "language": "sql",
    "name": "cell5",
    "collapsed": false
   },
   "outputs": [],
   "source": "SHOW forecast;",
   "execution_count": null
  },
  {
   "cell_type": "markdown",
   "id": "511b1cc7-f67d-478a-b4fa-8e53c7cda8c1",
   "metadata": {
    "name": "cell20",
    "collapsed": false
   },
   "source": "### Forecast\n\nLet us use the model to build a sales forecast for next 10 days. And persist the predictiosn on to a table named `macncheese_predictions`."
  },
  {
   "cell_type": "code",
   "id": "00b53993-015f-42b2-8878-a6a31d7b9803",
   "metadata": {
    "language": "sql",
    "name": "macncheese_predictions",
    "collapsed": false
   },
   "outputs": [],
   "source": "CALL lobstermac_forecast!FORECAST(FORECASTING_PERIODS => 10)",
   "execution_count": null
  },
  {
   "cell_type": "code",
   "id": "82260af3-51ce-4cd4-9201-f7c058a91c57",
   "metadata": {
    "language": "python",
    "name": "cell2",
    "collapsed": false
   },
   "outputs": [],
   "source": "macncheese_predictions.to_df().write.mode(\"overwrite\").save_as_table(\"macncheese_predictions\")",
   "execution_count": null
  },
  {
   "cell_type": "markdown",
   "id": "554f1fb4-2fac-42b4-8ee5-d524048e7f43",
   "metadata": {
    "name": "cell8",
    "collapsed": false
   },
   "source": "### Visualize the Forecast\n\nTo visualize the Forecast i.e. plotting it as graph, we will beb building a multline chart. Let us `UNION` our actual sales data with the forecast(predictions) data.\n"
  },
  {
   "cell_type": "code",
   "id": "20b5ce71-a592-4cf0-925c-d3a5d504804d",
   "metadata": {
    "language": "python",
    "name": "cell9",
    "collapsed": false
   },
   "outputs": [],
   "source": "lobster_sales_view_df = session.table(lobster_sales_view)\nsales_df = lobster_sales_view_df.with_column(\"forecast\",F.lit(None)).where(F.col('timestamp') > '2023-03-01')\nforecast_df = macncheese_predictions.to_df().select(F.col(\"TS\").alias(\"timestamp\"),F.col(\"forecast\")).with_column(\"total_sold\",F.lit(None))\nsales_forecast_df = sales_df.union_all_by_name(forecast_df)\nsales_forecast_df",
   "execution_count": null
  },
  {
   "cell_type": "code",
   "id": "52eb68c4-3a3c-4db7-996f-d8e56d6657d0",
   "metadata": {
    "language": "python",
    "name": "visualize_forecast",
    "collapsed": false
   },
   "outputs": [],
   "source": "base = alt.Chart(sales_forecast_df.to_pandas())\n\n# plot the actual sales\ntotal_sold = base.mark_line(point=True, color=\"blue\").encode(\n    x=alt.X(\"TIMESTAMP:O\",timeUnit=\"monthdate\",title=\"Date\").scale(zero=False),\n    y=alt.Y(\"TOTAL_SOLD\", title=\"Total Sold\").scale(zero=False),\n)\n\n# plot the forecast\nforecast = base.mark_line(point=True, color=\"orange\").encode(\n    x=alt.X(\"TIMESTAMP:O\",timeUnit=\"monthdate\",title=\"Date\"),\n    y=alt.Y(shorthand=\"FORECAST\", title=\"Total Sold\").scale(zero=False),\n)\nst.altair_chart(total_sold + forecast, use_container_width=True)",
   "execution_count": null
  },
  {
   "cell_type": "markdown",
   "id": "47947cd1-b33b-4bc5-993f-18300a7e37e6",
   "metadata": {
    "name": "cell1",
    "collapsed": false
   },
   "source": "## Forecast Configuration\n\nThe `FORECAST` SQL funciton takes a `CONFIG_OBJECT` which we can use to tune various parameters. In the following example let us tune the `predection_interval`. Refer to [docs](https://docs.snowflake.com/sql-reference/classes/forecast/commands/create-forecast) for other configuration options."
  },
  {
   "cell_type": "code",
   "id": "f23fced4-f71e-42f5-921d-77f54976ec76",
   "metadata": {
    "language": "sql",
    "name": "cell10",
    "collapsed": false
   },
   "outputs": [],
   "source": "CALL lobstermac_forecast!FORECAST(FORECASTING_PERIODS => 10, CONFIG_OBJECT => {'prediction_interval': .5});",
   "execution_count": null
  }
 ]
}